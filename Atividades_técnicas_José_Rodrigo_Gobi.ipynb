{
  "nbformat": 4,
  "nbformat_minor": 0,
  "metadata": {
    "colab": {
      "provenance": [],
      "authorship_tag": "ABX9TyP2OxDFU7tISQoDFDhNNg2u",
      "include_colab_link": true
    },
    "kernelspec": {
      "name": "python3",
      "display_name": "Python 3"
    },
    "language_info": {
      "name": "python"
    }
  },
  "cells": [
    {
      "cell_type": "markdown",
      "metadata": {
        "id": "view-in-github",
        "colab_type": "text"
      },
      "source": [
        "<a href=\"https://colab.research.google.com/github/Joserodrigogobi/Atividade_Target_Sistemas/blob/main/Atividades_t%C3%A9cnicas_Jos%C3%A9_Rodrigo_Gobi.ipynb\" target=\"_parent\"><img src=\"https://colab.research.google.com/assets/colab-badge.svg\" alt=\"Open In Colab\"/></a>"
      ]
    },
    {
      "cell_type": "markdown",
      "source": [
        "**Target Sistemas**\n",
        "\n",
        "Estágio Análise e Desenvolvimento - São Paulo\n",
        "\n",
        "Candidato: José Rodrigo Gobi"
      ],
      "metadata": {
        "id": "O3sclbeFixRh"
      }
    },
    {
      "cell_type": "code",
      "execution_count": null,
      "metadata": {
        "colab": {
          "base_uri": "https://localhost:8080/"
        },
        "id": "d8FSk7HPcvlu",
        "outputId": "6974d826-e6bd-4ecc-afcc-afbeb2d250f9"
      },
      "outputs": [
        {
          "output_type": "stream",
          "name": "stdout",
          "text": [
            "91\n"
          ]
        }
      ],
      "source": [
        "# Atividade 1\n",
        "\n",
        "INDICE = 13\n",
        "SOMA = 0\n",
        "K = 0\n",
        "\n",
        "while K < INDICE:\n",
        "  K = K + 1\n",
        "  SOMA = SOMA + K\n",
        "\n",
        "print(SOMA)"
      ]
    },
    {
      "cell_type": "code",
      "source": [
        "# Atividade 2\n",
        "\n",
        "def is_fibonacci(num):\n",
        "    a, b = 0, 1\n",
        "    while a < num:\n",
        "        a, b = b, a + b\n",
        "    return a == num\n",
        "\n",
        "while True:\n",
        "    try:\n",
        "        numero = int(input(\"Digite um número (ou '0' para sair): \"))\n",
        "        if numero == 0:\n",
        "            print(\"Encerrando o programa.\")\n",
        "            break\n",
        "        if is_fibonacci(numero):\n",
        "            print(f\"{numero} pertence à sequência de Fibonacci.\")\n",
        "        else:\n",
        "            print(f\"{numero} não pertence à sequência de Fibonacci.\")\n",
        "    except ValueError:\n",
        "        print(\"Por favor, digite um número válido.\")"
      ],
      "metadata": {
        "colab": {
          "base_uri": "https://localhost:8080/"
        },
        "id": "y7LKodBXeYym",
        "outputId": "0623ae9e-fd2f-42f8-921f-7eabd644651b"
      },
      "execution_count": null,
      "outputs": [
        {
          "output_type": "stream",
          "name": "stdout",
          "text": [
            "Digite um número (ou '0' para sair): 117\n",
            "117 não pertence à sequência de Fibonacci.\n",
            "Digite um número (ou '0' para sair): 1.158\n",
            "Por favor, digite um número válido.\n",
            "Digite um número (ou '0' para sair): 1158\n",
            "1158 não pertence à sequência de Fibonacci.\n",
            "Digite um número (ou '0' para sair): 2000\n",
            "2000 não pertence à sequência de Fibonacci.\n",
            "Digite um número (ou '0' para sair): 150\n",
            "150 não pertence à sequência de Fibonacci.\n",
            "Digite um número (ou '0' para sair): 2584\n",
            "2584 pertence à sequência de Fibonacci.\n",
            "Digite um número (ou '0' para sair): 0\n",
            "Encerrando o programa.\n"
          ]
        }
      ]
    },
    {
      "cell_type": "code",
      "source": [
        "# Atividade 3\n",
        "\n",
        "import json\n",
        "\n",
        "# Exemplo de dados JSON\n",
        "dados = '''\n",
        "{\n",
        "    \"faturamento\": [\n",
        "        {\"dia\": 1, \"valor\": 500.0},\n",
        "        {\"dia\": 2, \"valor\": 1500.0},\n",
        "        {\"dia\": 3, \"valor\": 0.0},\n",
        "        {\"dia\": 4, \"valor\": 200.0},\n",
        "        {\"dia\": 5, \"valor\": 300.0},\n",
        "        {\"dia\": 6, \"valor\": 0.0},\n",
        "        {\"dia\": 7, \"valor\": 450.0}\n",
        "    ]\n",
        "}\n",
        "'''\n",
        "\n",
        "# Carregar os dados JSON\n",
        "try:\n",
        "    data = json.loads(dados)\n",
        "except json.JSONDecodeError as e:\n",
        "    print(f\"Erro ao decodificar JSON: {e}\")\n",
        "    exit()\n",
        "\n",
        "# Filtrar e extrair valores de faturamento ignorando dias sem faturamento\n",
        "faturamento = [item[\"valor\"] for item in data[\"faturamento\"] if item[\"valor\"] > 0]\n",
        "\n",
        "# Verificar se há faturamento para evitar divisão por zero\n",
        "if faturamento:\n",
        "    menor_valor = min(faturamento)\n",
        "    maior_valor = max(faturamento)\n",
        "    media_mensal = sum(faturamento) / len(faturamento)\n",
        "    dias_acima_da_media = sum(1 for valor in faturamento if valor > media_mensal)\n",
        "else:\n",
        "    menor_valor = maior_valor = media_mensal = dias_acima_da_media = 0\n",
        "\n",
        "# Mostrar resultados\n",
        "print(f\"Menor valor de faturamento: R${menor_valor:.2f}\" if faturamento else \"Nenhum faturamento registrado.\")\n",
        "print(f\"Maior valor de faturamento: R${maior_valor:.2f}\" if faturamento else \"Nenhum faturamento registrado.\")\n",
        "print(f\"Número de dias com faturamento acima da média: {dias_acima_da_media}\")"
      ],
      "metadata": {
        "colab": {
          "base_uri": "https://localhost:8080/"
        },
        "id": "94G75hlkfQfg",
        "outputId": "93fdf52c-fbcf-4887-bbb7-edddf97f24c4"
      },
      "execution_count": null,
      "outputs": [
        {
          "output_type": "stream",
          "name": "stdout",
          "text": [
            "Menor valor de faturamento: R$200.00\n",
            "Maior valor de faturamento: R$1500.00\n",
            "Número de dias com faturamento acima da média: 1\n"
          ]
        }
      ]
    },
    {
      "cell_type": "code",
      "source": [
        "# Atividade 4\n",
        "\n",
        "faturamento = {\n",
        "    \"SP\": 67836.43,\n",
        "    \"RJ\": 36678.66,\n",
        "    \"MG\": 29229.88,\n",
        "    \"ES\": 27165.48,\n",
        "    \"Outros\": 19849.53\n",
        "}\n",
        "\n",
        "total = sum(faturamento.values())\n",
        "\n",
        "percentuais = {estado: (valor / total) * 100 for estado, valor in faturamento.items()}\n",
        "\n",
        "for estado, percentual in percentuais.items():\n",
        "    print(f\"Percentual de {estado}: {percentual:.2f}%\")"
      ],
      "metadata": {
        "colab": {
          "base_uri": "https://localhost:8080/"
        },
        "id": "vHQDsAUTgw4G",
        "outputId": "701c0c62-f28d-4cdf-f954-e7a30b6c7ff6"
      },
      "execution_count": null,
      "outputs": [
        {
          "output_type": "stream",
          "name": "stdout",
          "text": [
            "Percentual de SP: 37.53%\n",
            "Percentual de RJ: 20.29%\n",
            "Percentual de MG: 16.17%\n",
            "Percentual de ES: 15.03%\n",
            "Percentual de Outros: 10.98%\n"
          ]
        }
      ]
    },
    {
      "cell_type": "code",
      "source": [
        "# Atividade 5\n",
        "\n",
        "def inverter_string(s):\n",
        "    invertida = \"\"\n",
        "    for char in s:\n",
        "        invertida = char + invertida\n",
        "    return invertida\n",
        "\n",
        "while True:\n",
        "    texto = input(\"Digite uma string para inverter (ou '0' para sair): \")\n",
        "    if texto == '0':\n",
        "        print(\"Encerrando o programa.\")\n",
        "        break\n",
        "    print(\"String invertida:\", inverter_string(texto))"
      ],
      "metadata": {
        "colab": {
          "base_uri": "https://localhost:8080/"
        },
        "id": "XLtcXcylhZwU",
        "outputId": "a2cc632c-da91-4d80-b331-6705f3a9c002"
      },
      "execution_count": null,
      "outputs": [
        {
          "output_type": "stream",
          "name": "stdout",
          "text": [
            "Digite uma string para inverter (ou '0' para sair): Feliz\n",
            "String invertida: zileF\n",
            "Digite uma string para inverter (ou '0' para sair): Arara\n",
            "String invertida: ararA\n",
            "Digite uma string para inverter (ou '0' para sair): 0\n",
            "Encerrando o programa.\n"
          ]
        }
      ]
    }
  ]
}